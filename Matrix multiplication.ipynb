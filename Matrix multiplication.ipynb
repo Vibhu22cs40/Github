
In [2]:
import numpy as np;
b1=3;
c1=3;
a=np.random.randint(0,10,(b1,c1));
b2=3;
c2=2;
b=np.random.randint(0,10,(b2,c2));
print(a);
print(b);
if(c1==b2):
    arr=np.zeros((b1,c2));#Return a new array of given shape and type, filled with zeros
    add=0;
    for i in range(0, b1):
        for j in range(0, c2):
            for k in range(0, b2):
                add=add+(a[i][k]*b[k][j]);
            arr[i][j]=add;
            add=0;
    print("manually")
    print(arr);
else:
    print("matrix multiplication not possible");

print("function");
arr1=np.matmul(a,b);
print(arr1);
            
                
                
[[7 9 0]
 [7 6 2]
 [9 3 7]]
[[3 3]
 [8 9]
 [3 4]]
manually
[[ 93. 102.]
 [ 75.  83.]
 [ 72.  82.]]
function
[[ 93 102]
 [ 75  83]
 [ 72  82]]
In [31]:
import numpy as np;
b1=3;
c1=3;
a=np.random.randint(0,10,(b1,c1));
print("matrix 1 \n",a,'\n');
b2=3;
c2=4;
b=np.random.randint(0,10,(b2,c2));
print('Matrixs 2 \n',b,'\n')

if(c1==b2):
    arr=np.zeros((b1,c2));
    add=0;
    for i in range(0,b1):                        
        for j in range(0,c2):
            for k in range(0,b2):
                add=add + a[i][k]*b[k][j];
            arr[i][j]=add;
            add=0;
    print("the multiplication of matrix is  : \n",arr);
else:
    print("invaild");
matrix 1 
 [[5 3 8]
 [6 4 7]
 [5 7 2]] 

Matrixs 2 
 [[3 0 2 7]
 [6 1 0 7]
 [5 8 1 9]] 

the multiplication of matrix is  : 
 [[ 73.  67.  18. 128.]
 [ 77.  60.  19. 133.]
 [ 67.  23.  12. 102.]]
